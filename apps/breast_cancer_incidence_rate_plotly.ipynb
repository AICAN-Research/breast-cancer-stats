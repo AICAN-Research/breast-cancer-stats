{
 "cells": [
  {
   "cell_type": "code",
   "execution_count": 2,
   "metadata": {},
   "outputs": [
    {
     "name": "stdout",
     "output_type": "stream",
     "text": [
      "\n",
      "\u001b[1m[\u001b[0m\u001b[34;49mnotice\u001b[0m\u001b[1;39;49m]\u001b[0m\u001b[39;49m A new release of pip is available: \u001b[0m\u001b[31;49m23.1.2\u001b[0m\u001b[39;49m -> \u001b[0m\u001b[32;49m23.2.1\u001b[0m\n",
      "\u001b[1m[\u001b[0m\u001b[34;49mnotice\u001b[0m\u001b[1;39;49m]\u001b[0m\u001b[39;49m To update, run: \u001b[0m\u001b[32;49mpip install --upgrade pip\u001b[0m\n"
     ]
    }
   ],
   "source": [
    "# Install dependencies\n",
    "!pip install -q -U pandas plotly nbformat kaleido"
   ]
  },
  {
   "cell_type": "code",
   "execution_count": 31,
   "metadata": {},
   "outputs": [
    {
     "data": {
      "application/vnd.plotly.v1+json": {
       "config": {
        "plotlyServerURL": "https://plot.ly"
       },
       "data": [
        {
         "autocolorscale": false,
         "colorbar": {
          "len": 0.75,
          "thickness": 15,
          "title": {
           "text": "Cum.risk"
          }
         },
         "colorscale": [
          [
           0,
           "rgb(247,251,255)"
          ],
          [
           0.125,
           "rgb(222,235,247)"
          ],
          [
           0.25,
           "rgb(198,219,239)"
          ],
          [
           0.375,
           "rgb(158,202,225)"
          ],
          [
           0.5,
           "rgb(107,174,214)"
          ],
          [
           0.625,
           "rgb(66,146,198)"
          ],
          [
           0.75,
           "rgb(33,113,181)"
          ],
          [
           0.875,
           "rgb(8,81,156)"
          ],
          [
           1,
           "rgb(8,48,107)"
          ]
         ],
         "locations": [
          "AFG",
          "ALB",
          "DZA",
          "AGO",
          "AZE",
          "ARG",
          "AUS",
          "AUT",
          "BHS",
          "BHR",
          "BGD",
          "ARM",
          "BRB",
          "BEL",
          "BTN",
          "BOL",
          "BIH",
          "BWA",
          "BRA",
          "BLZ",
          "SLB",
          "BRN",
          "BGR",
          "MMR",
          "BDI",
          "BLR",
          "KHM",
          "CMR",
          "CAN",
          "CPV",
          "CAF",
          "LKA",
          "TCD",
          "CHL",
          "CHN",
          "COL",
          "COM",
          "COG",
          "COD",
          "CRI",
          "HRV",
          "CUB",
          "CYP",
          "CZE",
          "BEN",
          "DNK",
          "DOM",
          "ECU",
          "SLV",
          "GNQ",
          "ETH",
          "ERI",
          "EST",
          "FJI",
          "FIN",
          "FRA",
          "GUF",
          "PYF",
          "DJI",
          "GAB",
          "GEO",
          "GMB",
          "PSE",
          "DEU",
          "GHA",
          "GRC",
          "GLP",
          "GUA",
          "GTM",
          "GIN",
          "GUY",
          "HTI",
          "HND",
          "HUN",
          "ISL",
          "IND",
          "IDN",
          "IRN",
          "IRQ",
          "IRL",
          "ISR",
          "ITA",
          "CIV",
          "JAM",
          "JPN",
          "KAZ",
          "JOR",
          "KEN",
          "PRK",
          "KOR",
          "KWT",
          "KGZ",
          "LAO",
          "LBN",
          "LSO",
          "LVA",
          "LBR",
          "LBY",
          "LTU",
          "LUX",
          "MDG",
          "MWI",
          "MYS",
          "MDV",
          "MLI",
          "MLT",
          "MTQ",
          "MRT",
          "MUS",
          "MEX",
          "MNG",
          "MDA",
          "MNE",
          "MAR",
          "MOZ",
          "OMN",
          "NAM",
          "NPL",
          "NLD",
          "NCL",
          "VUT",
          "NZL",
          "NIC",
          "NER",
          "NGA",
          "NOR",
          "PAK",
          "PAN",
          "PNG",
          "PRY",
          "PER",
          "PHL",
          "POL",
          "PRT",
          "GNB",
          "TLS",
          "PRI",
          "QAT",
          "REU",
          "ROU",
          "RUS",
          "RWA",
          "LCA",
          "STP",
          "SAU",
          "SEN",
          "SRB",
          "SLE",
          "SGP",
          "SVK",
          "VNM",
          "SVN",
          "SOM",
          "ZAF",
          "ZWE",
          "ESP",
          "SSD",
          "SDN",
          "SUR",
          "SWZ",
          "SWE",
          "CHE",
          "SYR",
          "TJK",
          "THA",
          "TGO",
          "TTO",
          "ARE",
          "TUN",
          "TUR",
          "TKM",
          "UGA",
          "UKR",
          "MKD",
          "EGY",
          "GBR",
          "TZA",
          "USA",
          "BFA",
          "URY",
          "UZB",
          "VEN",
          "WSM",
          "YEM",
          "ZMB"
         ],
         "marker": {
          "line": {
           "color": "darkgray",
           "width": 0.5
          }
         },
         "reversescale": false,
         "text": [
          "Afghanistan",
          "Albania",
          "Algeria",
          "Angola",
          "Azerbaijan",
          "Argentina",
          "Australia",
          "Austria",
          "Bahamas",
          "Bahrain",
          "Bangladesh",
          "Armenia",
          "Barbados",
          "Belgium",
          "Bhutan",
          "Bolivia,PlurinationalStateof",
          "BosniaandHerzegovina",
          "Botswana",
          "Brazil",
          "Belize",
          "SolomonIslands",
          "BruneiDarussalam",
          "Bulgaria",
          "Myanmar",
          "Burundi",
          "Belarus",
          "Cambodia",
          "Cameroon",
          "Canada",
          "CaboVerde",
          "CentralAfricanRepublic",
          "SriLanka",
          "Chad",
          "Chile",
          "China",
          "Colombia",
          "Comoros",
          "Congo,Republicof",
          "Congo,DemocraticRepublicof",
          "CostaRica",
          "Croatia",
          "Cuba",
          "Cyprus",
          "Czechia",
          "Benin",
          "Denmark",
          "DominicanRepublic",
          "Ecuador",
          "ElSalvador",
          "EquatorialGuinea",
          "Ethiopia",
          "Eritrea",
          "Estonia",
          "Fiji",
          "Finland",
          "France",
          "FrenchGuiana",
          "FrenchPolynesia",
          "Djibouti",
          "Gabon",
          "Georgia",
          "TheRepublicoftheGambia",
          "GazaStripandWestBank",
          "Germany",
          "Ghana",
          "Greece",
          "France,Guadeloupe",
          "Guam",
          "Guatemala",
          "Guinea",
          "Guyana",
          "Haiti",
          "Honduras",
          "Hungary",
          "Iceland",
          "India",
          "Indonesia",
          "Iran,IslamicRepublicof",
          "Iraq",
          "Ireland",
          "Israel",
          "Italy",
          "C�ted'Ivoire",
          "Jamaica",
          "Japan",
          "Kazakhstan",
          "Jordan",
          "Kenya",
          "Korea,DemocraticRepublicof",
          "Korea,Republicof",
          "Kuwait",
          "Kyrgyzstan",
          "LaoPeople'sDemocraticRepublic",
          "Lebanon",
          "Lesotho",
          "Latvia",
          "Liberia",
          "Libya",
          "Lithuania",
          "Luxembourg",
          "Madagascar",
          "Malawi",
          "Malaysia",
          "Maldives",
          "Mali",
          "Malta",
          "France,Martinique",
          "Mauritania",
          "Mauritius",
          "Mexico",
          "Mongolia",
          "RepublicofMoldova",
          "Montenegro",
          "Morocco",
          "Mozambique",
          "Oman",
          "Namibia",
          "Nepal",
          "TheNetherlands",
          "France,NewCaledonia",
          "Vanuatu",
          "NewZealand",
          "Nicaragua",
          "Niger",
          "Nigeria",
          "Norway",
          "Pakistan",
          "Panama",
          "PapuaNewGuinea",
          "Paraguay",
          "Peru",
          "Philippines",
          "Poland",
          "Portugal",
          "Guinea-Bissau",
          "Timor-Leste",
          "PuertoRico",
          "Qatar",
          "France,LaR�union",
          "Romania",
          "RussianFederation",
          "Rwanda",
          "SaintLucia",
          "SaoTomeandPrincipe",
          "SaudiArabia",
          "Senegal",
          "Serbia",
          "SierraLeone",
          "Singapore",
          "Slovakia",
          "VietNam",
          "Slovenia",
          "Somalia",
          "SouthAfrica",
          "Zimbabwe",
          "Spain",
          "SouthSudan",
          "Sudan",
          "Suriname",
          "Eswatini",
          "Sweden",
          "Switzerland",
          "SyrianArabRepublic",
          "Tajikistan",
          "Thailand",
          "Togo",
          "TrinidadandTobago",
          "UnitedArabEmirates",
          "Tunisia",
          "Turkey",
          "Turkmenistan",
          "Uganda",
          "Ukraine",
          "NorthMacedonia",
          "Egypt",
          "UnitedKingdom",
          "Tanzania,UnitedRepublicof",
          "UnitedStatesofAmerica",
          "BurkinaFaso",
          "Uruguay",
          "Uzbekistan",
          "Venezuela,BolivarianRepublicof",
          "Samoa",
          "Yemen",
          "Zambia"
         ],
         "type": "choropleth",
         "z": [
          3.11,
          4.86,
          5.62,
          3.68,
          3.72,
          8.34,
          10.5,
          7.47,
          6.7,
          4.81,
          1.83,
          5.54,
          8.03,
          12.07,
          0.6,
          2.41,
          5.69,
          2,
          6.68,
          5.31,
          4.98,
          5.88,
          6.52,
          2.29,
          2.8,
          5.83,
          2.44,
          4.12,
          8.89,
          1.64,
          3.78,
          2.93,
          4.08,
          4.05,
          4.18,
          5.21,
          2.37,
          2.74,
          2.97,
          5.24,
          7.55,
          4.94,
          8.76,
          7.82,
          2.58,
          10.57,
          6.23,
          4.13,
          4.27,
          3.84,
          4.26,
          4.27,
          6.88,
          6.71,
          10.3,
          10.55,
          6.08,
          6.64,
          4.24,
          3.55,
          6.3,
          1.03,
          5.71,
          8.73,
          3.93,
          7.63,
          7.14,
          4.16,
          3.19,
          2.05,
          5.31,
          3.05,
          3.44,
          8.4,
          8.81,
          2.81,
          4.83,
          3.67,
          5.72,
          9.66,
          8.46,
          9.27,
          4.68,
          6.7,
          7.98,
          4.18,
          6.36,
          4.69,
          3.49,
          6.41,
          5.74,
          2.61,
          3.9,
          6.23,
          2.02,
          7.03,
          3.42,
          3.65,
          6.71,
          10.78,
          3.78,
          2.66,
          5.29,
          4.77,
          4.55,
          9.57,
          8.86,
          3.37,
          7.02,
          4.33,
          1.17,
          4.93,
          7.99,
          5.84,
          2.22,
          4,
          5.96,
          1.47,
          10.75,
          10.61,
          2.92,
          9.92,
          3.79,
          3.25,
          5.38,
          8.95,
          4.22,
          4.61,
          4.98,
          6.11,
          3.77,
          5.66,
          7.19,
          7.43,
          2.71,
          2.72,
          7.48,
          4.91,
          6.3,
          7.23,
          6.12,
          3.16,
          5.33,
          3.61,
          3.01,
          3.37,
          9.26,
          4.03,
          8.27,
          6.6,
          3.69,
          7.58,
          4.4,
          5.6,
          4.38,
          8.14,
          2.71,
          4.16,
          5.61,
          2.51,
          9.23,
          9.84,
          6.16,
          2.06,
          4.12,
          3.21,
          5.84,
          6.58,
          4.28,
          4.89,
          3.24,
          2.47,
          4.93,
          6.46,
          5.04,
          9.42,
          2.74,
          9.81,
          3.2,
          7.02,
          2.77,
          5.69,
          9.06,
          3.12,
          2.31
         ]
        }
       ],
       "layout": {
        "annotations": [
         {
          "showarrow": false,
          "text": "Data source: GLOBOSCAN 2020 (IARC)",
          "x": 0.015,
          "xref": "paper",
          "y": 0.15,
          "yref": "paper"
         }
        ],
        "geo": {
         "projection": {
          "type": "equirectangular"
         },
         "showcoastlines": false,
         "showframe": false
        },
        "margin": {
         "b": 0,
         "l": 0,
         "r": 0,
         "t": 0
        },
        "template": {
         "data": {
          "bar": [
           {
            "error_x": {
             "color": "#2a3f5f"
            },
            "error_y": {
             "color": "#2a3f5f"
            },
            "marker": {
             "line": {
              "color": "#E5ECF6",
              "width": 0.5
             },
             "pattern": {
              "fillmode": "overlay",
              "size": 10,
              "solidity": 0.2
             }
            },
            "type": "bar"
           }
          ],
          "barpolar": [
           {
            "marker": {
             "line": {
              "color": "#E5ECF6",
              "width": 0.5
             },
             "pattern": {
              "fillmode": "overlay",
              "size": 10,
              "solidity": 0.2
             }
            },
            "type": "barpolar"
           }
          ],
          "carpet": [
           {
            "aaxis": {
             "endlinecolor": "#2a3f5f",
             "gridcolor": "white",
             "linecolor": "white",
             "minorgridcolor": "white",
             "startlinecolor": "#2a3f5f"
            },
            "baxis": {
             "endlinecolor": "#2a3f5f",
             "gridcolor": "white",
             "linecolor": "white",
             "minorgridcolor": "white",
             "startlinecolor": "#2a3f5f"
            },
            "type": "carpet"
           }
          ],
          "choropleth": [
           {
            "colorbar": {
             "outlinewidth": 0,
             "ticks": ""
            },
            "type": "choropleth"
           }
          ],
          "contour": [
           {
            "colorbar": {
             "outlinewidth": 0,
             "ticks": ""
            },
            "colorscale": [
             [
              0,
              "#0d0887"
             ],
             [
              0.1111111111111111,
              "#46039f"
             ],
             [
              0.2222222222222222,
              "#7201a8"
             ],
             [
              0.3333333333333333,
              "#9c179e"
             ],
             [
              0.4444444444444444,
              "#bd3786"
             ],
             [
              0.5555555555555556,
              "#d8576b"
             ],
             [
              0.6666666666666666,
              "#ed7953"
             ],
             [
              0.7777777777777778,
              "#fb9f3a"
             ],
             [
              0.8888888888888888,
              "#fdca26"
             ],
             [
              1,
              "#f0f921"
             ]
            ],
            "type": "contour"
           }
          ],
          "contourcarpet": [
           {
            "colorbar": {
             "outlinewidth": 0,
             "ticks": ""
            },
            "type": "contourcarpet"
           }
          ],
          "heatmap": [
           {
            "colorbar": {
             "outlinewidth": 0,
             "ticks": ""
            },
            "colorscale": [
             [
              0,
              "#0d0887"
             ],
             [
              0.1111111111111111,
              "#46039f"
             ],
             [
              0.2222222222222222,
              "#7201a8"
             ],
             [
              0.3333333333333333,
              "#9c179e"
             ],
             [
              0.4444444444444444,
              "#bd3786"
             ],
             [
              0.5555555555555556,
              "#d8576b"
             ],
             [
              0.6666666666666666,
              "#ed7953"
             ],
             [
              0.7777777777777778,
              "#fb9f3a"
             ],
             [
              0.8888888888888888,
              "#fdca26"
             ],
             [
              1,
              "#f0f921"
             ]
            ],
            "type": "heatmap"
           }
          ],
          "heatmapgl": [
           {
            "colorbar": {
             "outlinewidth": 0,
             "ticks": ""
            },
            "colorscale": [
             [
              0,
              "#0d0887"
             ],
             [
              0.1111111111111111,
              "#46039f"
             ],
             [
              0.2222222222222222,
              "#7201a8"
             ],
             [
              0.3333333333333333,
              "#9c179e"
             ],
             [
              0.4444444444444444,
              "#bd3786"
             ],
             [
              0.5555555555555556,
              "#d8576b"
             ],
             [
              0.6666666666666666,
              "#ed7953"
             ],
             [
              0.7777777777777778,
              "#fb9f3a"
             ],
             [
              0.8888888888888888,
              "#fdca26"
             ],
             [
              1,
              "#f0f921"
             ]
            ],
            "type": "heatmapgl"
           }
          ],
          "histogram": [
           {
            "marker": {
             "pattern": {
              "fillmode": "overlay",
              "size": 10,
              "solidity": 0.2
             }
            },
            "type": "histogram"
           }
          ],
          "histogram2d": [
           {
            "colorbar": {
             "outlinewidth": 0,
             "ticks": ""
            },
            "colorscale": [
             [
              0,
              "#0d0887"
             ],
             [
              0.1111111111111111,
              "#46039f"
             ],
             [
              0.2222222222222222,
              "#7201a8"
             ],
             [
              0.3333333333333333,
              "#9c179e"
             ],
             [
              0.4444444444444444,
              "#bd3786"
             ],
             [
              0.5555555555555556,
              "#d8576b"
             ],
             [
              0.6666666666666666,
              "#ed7953"
             ],
             [
              0.7777777777777778,
              "#fb9f3a"
             ],
             [
              0.8888888888888888,
              "#fdca26"
             ],
             [
              1,
              "#f0f921"
             ]
            ],
            "type": "histogram2d"
           }
          ],
          "histogram2dcontour": [
           {
            "colorbar": {
             "outlinewidth": 0,
             "ticks": ""
            },
            "colorscale": [
             [
              0,
              "#0d0887"
             ],
             [
              0.1111111111111111,
              "#46039f"
             ],
             [
              0.2222222222222222,
              "#7201a8"
             ],
             [
              0.3333333333333333,
              "#9c179e"
             ],
             [
              0.4444444444444444,
              "#bd3786"
             ],
             [
              0.5555555555555556,
              "#d8576b"
             ],
             [
              0.6666666666666666,
              "#ed7953"
             ],
             [
              0.7777777777777778,
              "#fb9f3a"
             ],
             [
              0.8888888888888888,
              "#fdca26"
             ],
             [
              1,
              "#f0f921"
             ]
            ],
            "type": "histogram2dcontour"
           }
          ],
          "mesh3d": [
           {
            "colorbar": {
             "outlinewidth": 0,
             "ticks": ""
            },
            "type": "mesh3d"
           }
          ],
          "parcoords": [
           {
            "line": {
             "colorbar": {
              "outlinewidth": 0,
              "ticks": ""
             }
            },
            "type": "parcoords"
           }
          ],
          "pie": [
           {
            "automargin": true,
            "type": "pie"
           }
          ],
          "scatter": [
           {
            "fillpattern": {
             "fillmode": "overlay",
             "size": 10,
             "solidity": 0.2
            },
            "type": "scatter"
           }
          ],
          "scatter3d": [
           {
            "line": {
             "colorbar": {
              "outlinewidth": 0,
              "ticks": ""
             }
            },
            "marker": {
             "colorbar": {
              "outlinewidth": 0,
              "ticks": ""
             }
            },
            "type": "scatter3d"
           }
          ],
          "scattercarpet": [
           {
            "marker": {
             "colorbar": {
              "outlinewidth": 0,
              "ticks": ""
             }
            },
            "type": "scattercarpet"
           }
          ],
          "scattergeo": [
           {
            "marker": {
             "colorbar": {
              "outlinewidth": 0,
              "ticks": ""
             }
            },
            "type": "scattergeo"
           }
          ],
          "scattergl": [
           {
            "marker": {
             "colorbar": {
              "outlinewidth": 0,
              "ticks": ""
             }
            },
            "type": "scattergl"
           }
          ],
          "scattermapbox": [
           {
            "marker": {
             "colorbar": {
              "outlinewidth": 0,
              "ticks": ""
             }
            },
            "type": "scattermapbox"
           }
          ],
          "scatterpolar": [
           {
            "marker": {
             "colorbar": {
              "outlinewidth": 0,
              "ticks": ""
             }
            },
            "type": "scatterpolar"
           }
          ],
          "scatterpolargl": [
           {
            "marker": {
             "colorbar": {
              "outlinewidth": 0,
              "ticks": ""
             }
            },
            "type": "scatterpolargl"
           }
          ],
          "scatterternary": [
           {
            "marker": {
             "colorbar": {
              "outlinewidth": 0,
              "ticks": ""
             }
            },
            "type": "scatterternary"
           }
          ],
          "surface": [
           {
            "colorbar": {
             "outlinewidth": 0,
             "ticks": ""
            },
            "colorscale": [
             [
              0,
              "#0d0887"
             ],
             [
              0.1111111111111111,
              "#46039f"
             ],
             [
              0.2222222222222222,
              "#7201a8"
             ],
             [
              0.3333333333333333,
              "#9c179e"
             ],
             [
              0.4444444444444444,
              "#bd3786"
             ],
             [
              0.5555555555555556,
              "#d8576b"
             ],
             [
              0.6666666666666666,
              "#ed7953"
             ],
             [
              0.7777777777777778,
              "#fb9f3a"
             ],
             [
              0.8888888888888888,
              "#fdca26"
             ],
             [
              1,
              "#f0f921"
             ]
            ],
            "type": "surface"
           }
          ],
          "table": [
           {
            "cells": {
             "fill": {
              "color": "#EBF0F8"
             },
             "line": {
              "color": "white"
             }
            },
            "header": {
             "fill": {
              "color": "#C8D4E3"
             },
             "line": {
              "color": "white"
             }
            },
            "type": "table"
           }
          ]
         },
         "layout": {
          "annotationdefaults": {
           "arrowcolor": "#2a3f5f",
           "arrowhead": 0,
           "arrowwidth": 1
          },
          "autotypenumbers": "strict",
          "coloraxis": {
           "colorbar": {
            "outlinewidth": 0,
            "ticks": ""
           }
          },
          "colorscale": {
           "diverging": [
            [
             0,
             "#8e0152"
            ],
            [
             0.1,
             "#c51b7d"
            ],
            [
             0.2,
             "#de77ae"
            ],
            [
             0.3,
             "#f1b6da"
            ],
            [
             0.4,
             "#fde0ef"
            ],
            [
             0.5,
             "#f7f7f7"
            ],
            [
             0.6,
             "#e6f5d0"
            ],
            [
             0.7,
             "#b8e186"
            ],
            [
             0.8,
             "#7fbc41"
            ],
            [
             0.9,
             "#4d9221"
            ],
            [
             1,
             "#276419"
            ]
           ],
           "sequential": [
            [
             0,
             "#0d0887"
            ],
            [
             0.1111111111111111,
             "#46039f"
            ],
            [
             0.2222222222222222,
             "#7201a8"
            ],
            [
             0.3333333333333333,
             "#9c179e"
            ],
            [
             0.4444444444444444,
             "#bd3786"
            ],
            [
             0.5555555555555556,
             "#d8576b"
            ],
            [
             0.6666666666666666,
             "#ed7953"
            ],
            [
             0.7777777777777778,
             "#fb9f3a"
            ],
            [
             0.8888888888888888,
             "#fdca26"
            ],
            [
             1,
             "#f0f921"
            ]
           ],
           "sequentialminus": [
            [
             0,
             "#0d0887"
            ],
            [
             0.1111111111111111,
             "#46039f"
            ],
            [
             0.2222222222222222,
             "#7201a8"
            ],
            [
             0.3333333333333333,
             "#9c179e"
            ],
            [
             0.4444444444444444,
             "#bd3786"
            ],
            [
             0.5555555555555556,
             "#d8576b"
            ],
            [
             0.6666666666666666,
             "#ed7953"
            ],
            [
             0.7777777777777778,
             "#fb9f3a"
            ],
            [
             0.8888888888888888,
             "#fdca26"
            ],
            [
             1,
             "#f0f921"
            ]
           ]
          },
          "colorway": [
           "#636efa",
           "#EF553B",
           "#00cc96",
           "#ab63fa",
           "#FFA15A",
           "#19d3f3",
           "#FF6692",
           "#B6E880",
           "#FF97FF",
           "#FECB52"
          ],
          "font": {
           "color": "#2a3f5f"
          },
          "geo": {
           "bgcolor": "white",
           "lakecolor": "white",
           "landcolor": "#E5ECF6",
           "showlakes": true,
           "showland": true,
           "subunitcolor": "white"
          },
          "hoverlabel": {
           "align": "left"
          },
          "hovermode": "closest",
          "mapbox": {
           "style": "light"
          },
          "paper_bgcolor": "white",
          "plot_bgcolor": "#E5ECF6",
          "polar": {
           "angularaxis": {
            "gridcolor": "white",
            "linecolor": "white",
            "ticks": ""
           },
           "bgcolor": "#E5ECF6",
           "radialaxis": {
            "gridcolor": "white",
            "linecolor": "white",
            "ticks": ""
           }
          },
          "scene": {
           "xaxis": {
            "backgroundcolor": "#E5ECF6",
            "gridcolor": "white",
            "gridwidth": 2,
            "linecolor": "white",
            "showbackground": true,
            "ticks": "",
            "zerolinecolor": "white"
           },
           "yaxis": {
            "backgroundcolor": "#E5ECF6",
            "gridcolor": "white",
            "gridwidth": 2,
            "linecolor": "white",
            "showbackground": true,
            "ticks": "",
            "zerolinecolor": "white"
           },
           "zaxis": {
            "backgroundcolor": "#E5ECF6",
            "gridcolor": "white",
            "gridwidth": 2,
            "linecolor": "white",
            "showbackground": true,
            "ticks": "",
            "zerolinecolor": "white"
           }
          },
          "shapedefaults": {
           "line": {
            "color": "#2a3f5f"
           }
          },
          "ternary": {
           "aaxis": {
            "gridcolor": "white",
            "linecolor": "white",
            "ticks": ""
           },
           "baxis": {
            "gridcolor": "white",
            "linecolor": "white",
            "ticks": ""
           },
           "bgcolor": "#E5ECF6",
           "caxis": {
            "gridcolor": "white",
            "linecolor": "white",
            "ticks": ""
           }
          },
          "title": {
           "x": 0.05
          },
          "xaxis": {
           "automargin": true,
           "gridcolor": "white",
           "linecolor": "white",
           "ticks": "",
           "title": {
            "standoff": 15
           },
           "zerolinecolor": "white",
           "zerolinewidth": 2
          },
          "yaxis": {
           "automargin": true,
           "gridcolor": "white",
           "linecolor": "white",
           "ticks": "",
           "title": {
            "standoff": 15
           },
           "zerolinecolor": "white",
           "zerolinewidth": 2
          }
         }
        }
       }
      }
     },
     "metadata": {},
     "output_type": "display_data"
    }
   ],
   "source": [
    "import plotly.graph_objects as go\n",
    "import pandas as pd\n",
    "\n",
    "\n",
    "cancer_data = pd.read_csv(\"../data/cum_risk_breast_cancer_incidence.csv\")\n",
    "\n",
    "fig = go.Figure(data=go.Choropleth(\n",
    "    locations = cancer_data['ISO code'],\n",
    "    z = cancer_data['Value'],\n",
    "    text = cancer_data['Population'],\n",
    "    colorscale = 'Blues',\n",
    "    autocolorscale=False,\n",
    "    reversescale=False,\n",
    "    marker_line_color='darkgray',\n",
    "    marker_line_width=0.5,\n",
    "    #colorbar_tickprefix = '%',\n",
    "    #colorbar=None,\n",
    "    colorbar_title = 'Cum.risk',\n",
    "))\n",
    "\n",
    "#fig.data[0].colorbar.x=-0.15\n",
    "fig.data[0].colorbar.thickness=15\n",
    "fig.data[0].colorbar.len=0.75\n",
    "\n",
    "fig.update_layout(\n",
    "    #title_text='Estimated cumulative risk of breast cancer incidence in 2020, females, ages 0-74',\n",
    "    geo=dict(\n",
    "        showframe=False,\n",
    "        showcoastlines=False,\n",
    "        projection_type='equirectangular'  # times\n",
    "    ),\n",
    "    annotations = [dict(\n",
    "        x=0.015,\n",
    "        y=0.15,\n",
    "        xref='paper',\n",
    "        yref='paper',\n",
    "        text='Data source: GLOBOSCAN 2020 (IARC)',\n",
    "        showarrow = False\n",
    "    )],\n",
    "    margin=go.layout.Margin(\n",
    "        l=0, #left margin\n",
    "        r=0, #right margin\n",
    "        b=0, #bottom margin\n",
    "        t=0  #top margin  <- Need to be adjusted if title is added!\n",
    "    ),\n",
    "    #coloraxis_colorbar_x=0.26,\n",
    ")\n",
    "\n",
    "fig.write_image(\"cum_risk_breast_cancer_incidence.svg\")\n",
    "\n",
    "fig.show()\n"
   ]
  }
 ],
 "metadata": {
  "kernelspec": {
   "display_name": "venv",
   "language": "python",
   "name": "python3"
  },
  "language_info": {
   "codemirror_mode": {
    "name": "ipython",
    "version": 3
   },
   "file_extension": ".py",
   "mimetype": "text/x-python",
   "name": "python",
   "nbconvert_exporter": "python",
   "pygments_lexer": "ipython3",
   "version": "3.8.16"
  },
  "orig_nbformat": 4
 },
 "nbformat": 4,
 "nbformat_minor": 2
}
