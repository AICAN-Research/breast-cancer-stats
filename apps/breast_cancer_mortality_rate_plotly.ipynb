{
 "cells": [
  {
   "cell_type": "code",
   "execution_count": 12,
   "metadata": {},
   "outputs": [
    {
     "name": "stdout",
     "output_type": "stream",
     "text": [
      "Requirement already satisfied: pandas in /Users/andreped/workspace/breast-cancer-stats/venv/lib/python3.8/site-packages (2.0.3)\n",
      "Requirement already satisfied: plotly in /Users/andreped/workspace/breast-cancer-stats/venv/lib/python3.8/site-packages (5.15.0)\n",
      "Requirement already satisfied: nbformat in /Users/andreped/workspace/breast-cancer-stats/venv/lib/python3.8/site-packages (5.9.2)\n",
      "Requirement already satisfied: kaleido in /Users/andreped/workspace/breast-cancer-stats/venv/lib/python3.8/site-packages (0.2.1)\n",
      "Requirement already satisfied: python-dateutil>=2.8.2 in /Users/andreped/workspace/breast-cancer-stats/venv/lib/python3.8/site-packages (from pandas) (2.8.2)\n",
      "Requirement already satisfied: pytz>=2020.1 in /Users/andreped/workspace/breast-cancer-stats/venv/lib/python3.8/site-packages (from pandas) (2023.3)\n",
      "Requirement already satisfied: tzdata>=2022.1 in /Users/andreped/workspace/breast-cancer-stats/venv/lib/python3.8/site-packages (from pandas) (2023.3)\n",
      "Requirement already satisfied: numpy>=1.20.3 in /Users/andreped/workspace/breast-cancer-stats/venv/lib/python3.8/site-packages (from pandas) (1.24.4)\n",
      "Requirement already satisfied: tenacity>=6.2.0 in /Users/andreped/workspace/breast-cancer-stats/venv/lib/python3.8/site-packages (from plotly) (8.2.2)\n",
      "Requirement already satisfied: packaging in /Users/andreped/workspace/breast-cancer-stats/venv/lib/python3.8/site-packages (from plotly) (23.1)\n",
      "Requirement already satisfied: fastjsonschema in /Users/andreped/workspace/breast-cancer-stats/venv/lib/python3.8/site-packages (from nbformat) (2.18.0)\n",
      "Requirement already satisfied: jsonschema>=2.6 in /Users/andreped/workspace/breast-cancer-stats/venv/lib/python3.8/site-packages (from nbformat) (4.19.0)\n",
      "Requirement already satisfied: jupyter-core in /Users/andreped/workspace/breast-cancer-stats/venv/lib/python3.8/site-packages (from nbformat) (5.3.1)\n",
      "Requirement already satisfied: traitlets>=5.1 in /Users/andreped/workspace/breast-cancer-stats/venv/lib/python3.8/site-packages (from nbformat) (5.9.0)\n",
      "Requirement already satisfied: attrs>=22.2.0 in /Users/andreped/workspace/breast-cancer-stats/venv/lib/python3.8/site-packages (from jsonschema>=2.6->nbformat) (23.1.0)\n",
      "Requirement already satisfied: importlib-resources>=1.4.0 in /Users/andreped/workspace/breast-cancer-stats/venv/lib/python3.8/site-packages (from jsonschema>=2.6->nbformat) (6.0.1)\n",
      "Requirement already satisfied: jsonschema-specifications>=2023.03.6 in /Users/andreped/workspace/breast-cancer-stats/venv/lib/python3.8/site-packages (from jsonschema>=2.6->nbformat) (2023.7.1)\n",
      "Requirement already satisfied: pkgutil-resolve-name>=1.3.10 in /Users/andreped/workspace/breast-cancer-stats/venv/lib/python3.8/site-packages (from jsonschema>=2.6->nbformat) (1.3.10)\n",
      "Requirement already satisfied: referencing>=0.28.4 in /Users/andreped/workspace/breast-cancer-stats/venv/lib/python3.8/site-packages (from jsonschema>=2.6->nbformat) (0.30.2)\n",
      "Requirement already satisfied: rpds-py>=0.7.1 in /Users/andreped/workspace/breast-cancer-stats/venv/lib/python3.8/site-packages (from jsonschema>=2.6->nbformat) (0.9.2)\n",
      "Requirement already satisfied: six>=1.5 in /Users/andreped/workspace/breast-cancer-stats/venv/lib/python3.8/site-packages (from python-dateutil>=2.8.2->pandas) (1.16.0)\n",
      "Requirement already satisfied: platformdirs>=2.5 in /Users/andreped/workspace/breast-cancer-stats/venv/lib/python3.8/site-packages (from jupyter-core->nbformat) (3.10.0)\n",
      "Requirement already satisfied: zipp>=3.1.0 in /Users/andreped/workspace/breast-cancer-stats/venv/lib/python3.8/site-packages (from importlib-resources>=1.4.0->jsonschema>=2.6->nbformat) (3.16.2)\n",
      "\n",
      "\u001b[1m[\u001b[0m\u001b[34;49mnotice\u001b[0m\u001b[1;39;49m]\u001b[0m\u001b[39;49m A new release of pip is available: \u001b[0m\u001b[31;49m23.1.2\u001b[0m\u001b[39;49m -> \u001b[0m\u001b[32;49m23.2.1\u001b[0m\n",
      "\u001b[1m[\u001b[0m\u001b[34;49mnotice\u001b[0m\u001b[1;39;49m]\u001b[0m\u001b[39;49m To update, run: \u001b[0m\u001b[32;49mpip install --upgrade pip\u001b[0m\n"
     ]
    }
   ],
   "source": [
    "# Install dependencies\n",
    "!pip install -q -U pandas plotly nbformat kaleido"
   ]
  },
  {
   "cell_type": "code",
   "execution_count": 28,
   "metadata": {},
   "outputs": [
    {
     "data": {
      "application/vnd.plotly.v1+json": {
       "config": {
        "plotlyServerURL": "https://plot.ly"
       },
       "data": [
        {
         "autocolorscale": false,
         "colorbar": {
          "len": 0.75,
          "thickness": 15,
          "title": {
           "text": "Cum.risk"
          }
         },
         "colorscale": [
          [
           0,
           "rgb(255,245,240)"
          ],
          [
           0.125,
           "rgb(254,224,210)"
          ],
          [
           0.25,
           "rgb(252,187,161)"
          ],
          [
           0.375,
           "rgb(252,146,114)"
          ],
          [
           0.5,
           "rgb(251,106,74)"
          ],
          [
           0.625,
           "rgb(239,59,44)"
          ],
          [
           0.75,
           "rgb(203,24,29)"
          ],
          [
           0.875,
           "rgb(165,15,21)"
          ],
          [
           1,
           "rgb(103,0,13)"
          ]
         ],
         "locations": [
          "AFG",
          "ALB",
          "DZA",
          "AGO",
          "AZE",
          "ARG",
          "AUS",
          "AUT",
          "BHS",
          "BHR",
          "BGD",
          "ARM",
          "BRB",
          "BEL",
          "BTN",
          "BOL",
          "BIH",
          "BWA",
          "BRA",
          "BLZ",
          "SLB",
          "BRN",
          "BGR",
          "MMR",
          "BDI",
          "BLR",
          "KHM",
          "CMR",
          "CAN",
          "CPV",
          "CAF",
          "LKA",
          "TCD",
          "CHL",
          "CHN",
          "COL",
          "COM",
          "COG",
          "COD",
          "CRI",
          "HRV",
          "CUB",
          "CYP",
          "CZE",
          "BEN",
          "DNK",
          "DOM",
          "ECU",
          "SLV",
          "GNQ",
          "ETH",
          "ERI",
          "EST",
          "FJI",
          "FIN",
          "FRA",
          "GUF",
          "PYF",
          "DJI",
          "GAB",
          "GEO",
          "GMB",
          "PSE",
          "DEU",
          "GHA",
          "GRC",
          "GLP",
          "GUA",
          "GTM",
          "GIN",
          "GUY",
          "HTI",
          "HND",
          "HUN",
          "ISL",
          "IND",
          "IDN",
          "IRN",
          "IRQ",
          "IRL",
          "ISR",
          "ITA",
          "CIV",
          "JAM",
          "JPN",
          "KAZ",
          "JOR",
          "KEN",
          "PRK",
          "KOR",
          "KWT",
          "KGZ",
          "LAO",
          "LBN",
          "LSO",
          "LVA",
          "LBR",
          "LBY",
          "LTU",
          "LUX",
          "MDG",
          "MWI",
          "MYS",
          "MDV",
          "MLI",
          "MLT",
          "MTQ",
          "MRT",
          "MUS",
          "MEX",
          "MNG",
          "MDA",
          "MNE",
          "MAR",
          "MOZ",
          "OMN",
          "NAM",
          "NPL",
          "NLD",
          "NCL",
          "VUT",
          "NZL",
          "NIC",
          "NER",
          "NGA",
          "NOR",
          "PAK",
          "PAN",
          "PNG",
          "PRY",
          "PER",
          "PHL",
          "POL",
          "PRT",
          "GNB",
          "TLS",
          "PRI",
          "QAT",
          "REU",
          "ROU",
          "RUS",
          "RWA",
          "LCA",
          "STP",
          "SAU",
          "SEN",
          "SRB",
          "SLE",
          "SGP",
          "SVK",
          "VNM",
          "SVN",
          "SOM",
          "ZAF",
          "ZWE",
          "ESP",
          "SSD",
          "SDN",
          "SUR",
          "SWZ",
          "SWE",
          "CHE",
          "SYR",
          "TJK",
          "THA",
          "TGO",
          "TTO",
          "ARE",
          "TUN",
          "TUR",
          "TKM",
          "UGA",
          "UKR",
          "MKD",
          "EGY",
          "GBR",
          "TZA",
          "USA",
          "BFA",
          "URY",
          "UZB",
          "VEN",
          "WSM",
          "YEM",
          "ZMB"
         ],
         "marker": {
          "line": {
           "color": "darkgray",
           "width": 0.5
          }
         },
         "reversescale": false,
         "text": [
          "Afghanistan",
          "Albania",
          "Algeria",
          "Angola",
          "Azerbaijan",
          "Argentina",
          "Australia",
          "Austria",
          "Bahamas",
          "Bahrain",
          "Bangladesh",
          "Armenia",
          "Barbados",
          "Belgium",
          "Bhutan",
          "Bolivia,PlurinationalStateof",
          "BosniaandHerzegovina",
          "Botswana",
          "Brazil",
          "Belize",
          "SolomonIslands",
          "BruneiDarussalam",
          "Bulgaria",
          "Myanmar",
          "Burundi",
          "Belarus",
          "Cambodia",
          "Cameroon",
          "Canada",
          "CaboVerde",
          "CentralAfricanRepublic",
          "SriLanka",
          "Chad",
          "Chile",
          "China",
          "Colombia",
          "Comoros",
          "Congo,Republicof",
          "Congo,DemocraticRepublicof",
          "CostaRica",
          "Croatia",
          "Cuba",
          "Cyprus",
          "Czechia",
          "Benin",
          "Denmark",
          "DominicanRepublic",
          "Ecuador",
          "ElSalvador",
          "EquatorialGuinea",
          "Ethiopia",
          "Eritrea",
          "Estonia",
          "Fiji",
          "Finland",
          "France",
          "FrenchGuiana",
          "FrenchPolynesia",
          "Djibouti",
          "Gabon",
          "Georgia",
          "TheRepublicoftheGambia",
          "GazaStripandWestBank",
          "Germany",
          "Ghana",
          "Greece",
          "France,Guadeloupe",
          "Guam",
          "Guatemala",
          "Guinea",
          "Guyana",
          "Haiti",
          "Honduras",
          "Hungary",
          "Iceland",
          "India",
          "Indonesia",
          "Iran,IslamicRepublicof",
          "Iraq",
          "Ireland",
          "Israel",
          "Italy",
          "C�ted'Ivoire",
          "Jamaica",
          "Japan",
          "Kazakhstan",
          "Jordan",
          "Kenya",
          "Korea,DemocraticRepublicof",
          "Korea,Republicof",
          "Kuwait",
          "Kyrgyzstan",
          "LaoPeople'sDemocraticRepublic",
          "Lebanon",
          "Lesotho",
          "Latvia",
          "Liberia",
          "Libya",
          "Lithuania",
          "Luxembourg",
          "Madagascar",
          "Malawi",
          "Malaysia",
          "Maldives",
          "Mali",
          "Malta",
          "France,Martinique",
          "Mauritania",
          "Mauritius",
          "Mexico",
          "Mongolia",
          "RepublicofMoldova",
          "Montenegro",
          "Morocco",
          "Mozambique",
          "Oman",
          "Namibia",
          "Nepal",
          "TheNetherlands",
          "France,NewCaledonia",
          "Vanuatu",
          "NewZealand",
          "Nicaragua",
          "Niger",
          "Nigeria",
          "Norway",
          "Pakistan",
          "Panama",
          "PapuaNewGuinea",
          "Paraguay",
          "Peru",
          "Philippines",
          "Poland",
          "Portugal",
          "Guinea-Bissau",
          "Timor-Leste",
          "PuertoRico",
          "Qatar",
          "France,LaR�union",
          "Romania",
          "RussianFederation",
          "Rwanda",
          "SaintLucia",
          "SaoTomeandPrincipe",
          "SaudiArabia",
          "Senegal",
          "Serbia",
          "SierraLeone",
          "Singapore",
          "Slovakia",
          "VietNam",
          "Slovenia",
          "Somalia",
          "SouthAfrica",
          "Zimbabwe",
          "Spain",
          "SouthSudan",
          "Sudan",
          "Suriname",
          "Eswatini",
          "Sweden",
          "Switzerland",
          "SyrianArabRepublic",
          "Tajikistan",
          "Thailand",
          "Togo",
          "TrinidadandTobago",
          "UnitedArabEmirates",
          "Tunisia",
          "Turkey",
          "Turkmenistan",
          "Uganda",
          "Ukraine",
          "NorthMacedonia",
          "Egypt",
          "UnitedKingdom",
          "Tanzania,UnitedRepublicof",
          "UnitedStatesofAmerica",
          "BurkinaFaso",
          "Uruguay",
          "Uzbekistan",
          "Venezuela,BolivarianRepublicof",
          "Samoa",
          "Yemen",
          "Zambia"
         ],
         "type": "choropleth",
         "z": [
          2.07,
          1.24,
          1.96,
          1.85,
          1.47,
          2.06,
          1.24,
          1.49,
          3.26,
          1.47,
          1.03,
          2.2,
          4.38,
          1.64,
          0.36,
          0.67,
          1.81,
          0.7,
          1.48,
          1.3,
          1.95,
          1.3,
          1.79,
          1.03,
          1.75,
          1.49,
          1.07,
          2.23,
          1.41,
          0.73,
          2.5,
          1.25,
          2.66,
          1.09,
          1.16,
          1.43,
          1.15,
          1.27,
          1.77,
          1.23,
          1.66,
          1.38,
          1.98,
          1.3,
          1.45,
          1.62,
          2.78,
          1.19,
          0.83,
          1.92,
          2.57,
          2.61,
          1.53,
          4.4,
          1.38,
          1.65,
          1.62,
          2.12,
          2.6,
          1.3,
          2.69,
          0.61,
          2.49,
          1.71,
          1.92,
          1.5,
          1.76,
          1.66,
          0.79,
          1.18,
          1.62,
          1.67,
          1.37,
          1.94,
          1.36,
          1.49,
          1.78,
          1.15,
          2.42,
          1.6,
          1.7,
          1.43,
          2.7,
          3.5,
          1.11,
          1.58,
          2.16,
          2.28,
          1.06,
          0.68,
          1.83,
          0.92,
          1.67,
          2.33,
          1.06,
          1.96,
          2.07,
          1.65,
          1.59,
          1.45,
          2.07,
          1.57,
          2.24,
          1.86,
          2.86,
          1.22,
          1.9,
          1.87,
          2.19,
          1.18,
          0.42,
          2.23,
          2.8,
          1.86,
          1.34,
          1.55,
          2.59,
          0.79,
          1.64,
          1.77,
          0.83,
          1.51,
          1.34,
          2.21,
          2.86,
          1.13,
          2.38,
          1.23,
          2.88,
          1.84,
          0.96,
          2.02,
          1.85,
          1.32,
          1.63,
          1.13,
          1.58,
          1.59,
          1.3,
          1.98,
          1.7,
          1.69,
          1.8,
          1.82,
          0.93,
          1.89,
          2.7,
          2.54,
          2.01,
          1.9,
          1.47,
          1.42,
          2.97,
          1.74,
          2.3,
          1.13,
          1.76,
          2.12,
          1.65,
          1.06,
          1.32,
          1.48,
          2.91,
          0.91,
          1.39,
          1.84,
          2.4,
          1.7,
          1.28,
          1.39,
          1.59,
          1.38,
          1.74,
          1.87,
          1.89,
          1.45,
          1.44,
          1.36,
          2.03,
          2.22,
          1.41,
          2.04,
          3.14,
          1.95,
          1.12
         ]
        }
       ],
       "layout": {
        "annotations": [
         {
          "showarrow": false,
          "text": "Data source: GLOBOSCAN 2020 (IARC)",
          "x": 0.015,
          "xref": "paper",
          "y": 0.15,
          "yref": "paper"
         }
        ],
        "geo": {
         "projection": {
          "type": "equirectangular"
         },
         "showcoastlines": false,
         "showframe": false
        },
        "margin": {
         "b": 0,
         "l": 0,
         "r": 0,
         "t": 0
        },
        "template": {
         "data": {
          "bar": [
           {
            "error_x": {
             "color": "#2a3f5f"
            },
            "error_y": {
             "color": "#2a3f5f"
            },
            "marker": {
             "line": {
              "color": "#E5ECF6",
              "width": 0.5
             },
             "pattern": {
              "fillmode": "overlay",
              "size": 10,
              "solidity": 0.2
             }
            },
            "type": "bar"
           }
          ],
          "barpolar": [
           {
            "marker": {
             "line": {
              "color": "#E5ECF6",
              "width": 0.5
             },
             "pattern": {
              "fillmode": "overlay",
              "size": 10,
              "solidity": 0.2
             }
            },
            "type": "barpolar"
           }
          ],
          "carpet": [
           {
            "aaxis": {
             "endlinecolor": "#2a3f5f",
             "gridcolor": "white",
             "linecolor": "white",
             "minorgridcolor": "white",
             "startlinecolor": "#2a3f5f"
            },
            "baxis": {
             "endlinecolor": "#2a3f5f",
             "gridcolor": "white",
             "linecolor": "white",
             "minorgridcolor": "white",
             "startlinecolor": "#2a3f5f"
            },
            "type": "carpet"
           }
          ],
          "choropleth": [
           {
            "colorbar": {
             "outlinewidth": 0,
             "ticks": ""
            },
            "type": "choropleth"
           }
          ],
          "contour": [
           {
            "colorbar": {
             "outlinewidth": 0,
             "ticks": ""
            },
            "colorscale": [
             [
              0,
              "#0d0887"
             ],
             [
              0.1111111111111111,
              "#46039f"
             ],
             [
              0.2222222222222222,
              "#7201a8"
             ],
             [
              0.3333333333333333,
              "#9c179e"
             ],
             [
              0.4444444444444444,
              "#bd3786"
             ],
             [
              0.5555555555555556,
              "#d8576b"
             ],
             [
              0.6666666666666666,
              "#ed7953"
             ],
             [
              0.7777777777777778,
              "#fb9f3a"
             ],
             [
              0.8888888888888888,
              "#fdca26"
             ],
             [
              1,
              "#f0f921"
             ]
            ],
            "type": "contour"
           }
          ],
          "contourcarpet": [
           {
            "colorbar": {
             "outlinewidth": 0,
             "ticks": ""
            },
            "type": "contourcarpet"
           }
          ],
          "heatmap": [
           {
            "colorbar": {
             "outlinewidth": 0,
             "ticks": ""
            },
            "colorscale": [
             [
              0,
              "#0d0887"
             ],
             [
              0.1111111111111111,
              "#46039f"
             ],
             [
              0.2222222222222222,
              "#7201a8"
             ],
             [
              0.3333333333333333,
              "#9c179e"
             ],
             [
              0.4444444444444444,
              "#bd3786"
             ],
             [
              0.5555555555555556,
              "#d8576b"
             ],
             [
              0.6666666666666666,
              "#ed7953"
             ],
             [
              0.7777777777777778,
              "#fb9f3a"
             ],
             [
              0.8888888888888888,
              "#fdca26"
             ],
             [
              1,
              "#f0f921"
             ]
            ],
            "type": "heatmap"
           }
          ],
          "heatmapgl": [
           {
            "colorbar": {
             "outlinewidth": 0,
             "ticks": ""
            },
            "colorscale": [
             [
              0,
              "#0d0887"
             ],
             [
              0.1111111111111111,
              "#46039f"
             ],
             [
              0.2222222222222222,
              "#7201a8"
             ],
             [
              0.3333333333333333,
              "#9c179e"
             ],
             [
              0.4444444444444444,
              "#bd3786"
             ],
             [
              0.5555555555555556,
              "#d8576b"
             ],
             [
              0.6666666666666666,
              "#ed7953"
             ],
             [
              0.7777777777777778,
              "#fb9f3a"
             ],
             [
              0.8888888888888888,
              "#fdca26"
             ],
             [
              1,
              "#f0f921"
             ]
            ],
            "type": "heatmapgl"
           }
          ],
          "histogram": [
           {
            "marker": {
             "pattern": {
              "fillmode": "overlay",
              "size": 10,
              "solidity": 0.2
             }
            },
            "type": "histogram"
           }
          ],
          "histogram2d": [
           {
            "colorbar": {
             "outlinewidth": 0,
             "ticks": ""
            },
            "colorscale": [
             [
              0,
              "#0d0887"
             ],
             [
              0.1111111111111111,
              "#46039f"
             ],
             [
              0.2222222222222222,
              "#7201a8"
             ],
             [
              0.3333333333333333,
              "#9c179e"
             ],
             [
              0.4444444444444444,
              "#bd3786"
             ],
             [
              0.5555555555555556,
              "#d8576b"
             ],
             [
              0.6666666666666666,
              "#ed7953"
             ],
             [
              0.7777777777777778,
              "#fb9f3a"
             ],
             [
              0.8888888888888888,
              "#fdca26"
             ],
             [
              1,
              "#f0f921"
             ]
            ],
            "type": "histogram2d"
           }
          ],
          "histogram2dcontour": [
           {
            "colorbar": {
             "outlinewidth": 0,
             "ticks": ""
            },
            "colorscale": [
             [
              0,
              "#0d0887"
             ],
             [
              0.1111111111111111,
              "#46039f"
             ],
             [
              0.2222222222222222,
              "#7201a8"
             ],
             [
              0.3333333333333333,
              "#9c179e"
             ],
             [
              0.4444444444444444,
              "#bd3786"
             ],
             [
              0.5555555555555556,
              "#d8576b"
             ],
             [
              0.6666666666666666,
              "#ed7953"
             ],
             [
              0.7777777777777778,
              "#fb9f3a"
             ],
             [
              0.8888888888888888,
              "#fdca26"
             ],
             [
              1,
              "#f0f921"
             ]
            ],
            "type": "histogram2dcontour"
           }
          ],
          "mesh3d": [
           {
            "colorbar": {
             "outlinewidth": 0,
             "ticks": ""
            },
            "type": "mesh3d"
           }
          ],
          "parcoords": [
           {
            "line": {
             "colorbar": {
              "outlinewidth": 0,
              "ticks": ""
             }
            },
            "type": "parcoords"
           }
          ],
          "pie": [
           {
            "automargin": true,
            "type": "pie"
           }
          ],
          "scatter": [
           {
            "fillpattern": {
             "fillmode": "overlay",
             "size": 10,
             "solidity": 0.2
            },
            "type": "scatter"
           }
          ],
          "scatter3d": [
           {
            "line": {
             "colorbar": {
              "outlinewidth": 0,
              "ticks": ""
             }
            },
            "marker": {
             "colorbar": {
              "outlinewidth": 0,
              "ticks": ""
             }
            },
            "type": "scatter3d"
           }
          ],
          "scattercarpet": [
           {
            "marker": {
             "colorbar": {
              "outlinewidth": 0,
              "ticks": ""
             }
            },
            "type": "scattercarpet"
           }
          ],
          "scattergeo": [
           {
            "marker": {
             "colorbar": {
              "outlinewidth": 0,
              "ticks": ""
             }
            },
            "type": "scattergeo"
           }
          ],
          "scattergl": [
           {
            "marker": {
             "colorbar": {
              "outlinewidth": 0,
              "ticks": ""
             }
            },
            "type": "scattergl"
           }
          ],
          "scattermapbox": [
           {
            "marker": {
             "colorbar": {
              "outlinewidth": 0,
              "ticks": ""
             }
            },
            "type": "scattermapbox"
           }
          ],
          "scatterpolar": [
           {
            "marker": {
             "colorbar": {
              "outlinewidth": 0,
              "ticks": ""
             }
            },
            "type": "scatterpolar"
           }
          ],
          "scatterpolargl": [
           {
            "marker": {
             "colorbar": {
              "outlinewidth": 0,
              "ticks": ""
             }
            },
            "type": "scatterpolargl"
           }
          ],
          "scatterternary": [
           {
            "marker": {
             "colorbar": {
              "outlinewidth": 0,
              "ticks": ""
             }
            },
            "type": "scatterternary"
           }
          ],
          "surface": [
           {
            "colorbar": {
             "outlinewidth": 0,
             "ticks": ""
            },
            "colorscale": [
             [
              0,
              "#0d0887"
             ],
             [
              0.1111111111111111,
              "#46039f"
             ],
             [
              0.2222222222222222,
              "#7201a8"
             ],
             [
              0.3333333333333333,
              "#9c179e"
             ],
             [
              0.4444444444444444,
              "#bd3786"
             ],
             [
              0.5555555555555556,
              "#d8576b"
             ],
             [
              0.6666666666666666,
              "#ed7953"
             ],
             [
              0.7777777777777778,
              "#fb9f3a"
             ],
             [
              0.8888888888888888,
              "#fdca26"
             ],
             [
              1,
              "#f0f921"
             ]
            ],
            "type": "surface"
           }
          ],
          "table": [
           {
            "cells": {
             "fill": {
              "color": "#EBF0F8"
             },
             "line": {
              "color": "white"
             }
            },
            "header": {
             "fill": {
              "color": "#C8D4E3"
             },
             "line": {
              "color": "white"
             }
            },
            "type": "table"
           }
          ]
         },
         "layout": {
          "annotationdefaults": {
           "arrowcolor": "#2a3f5f",
           "arrowhead": 0,
           "arrowwidth": 1
          },
          "autotypenumbers": "strict",
          "coloraxis": {
           "colorbar": {
            "outlinewidth": 0,
            "ticks": ""
           }
          },
          "colorscale": {
           "diverging": [
            [
             0,
             "#8e0152"
            ],
            [
             0.1,
             "#c51b7d"
            ],
            [
             0.2,
             "#de77ae"
            ],
            [
             0.3,
             "#f1b6da"
            ],
            [
             0.4,
             "#fde0ef"
            ],
            [
             0.5,
             "#f7f7f7"
            ],
            [
             0.6,
             "#e6f5d0"
            ],
            [
             0.7,
             "#b8e186"
            ],
            [
             0.8,
             "#7fbc41"
            ],
            [
             0.9,
             "#4d9221"
            ],
            [
             1,
             "#276419"
            ]
           ],
           "sequential": [
            [
             0,
             "#0d0887"
            ],
            [
             0.1111111111111111,
             "#46039f"
            ],
            [
             0.2222222222222222,
             "#7201a8"
            ],
            [
             0.3333333333333333,
             "#9c179e"
            ],
            [
             0.4444444444444444,
             "#bd3786"
            ],
            [
             0.5555555555555556,
             "#d8576b"
            ],
            [
             0.6666666666666666,
             "#ed7953"
            ],
            [
             0.7777777777777778,
             "#fb9f3a"
            ],
            [
             0.8888888888888888,
             "#fdca26"
            ],
            [
             1,
             "#f0f921"
            ]
           ],
           "sequentialminus": [
            [
             0,
             "#0d0887"
            ],
            [
             0.1111111111111111,
             "#46039f"
            ],
            [
             0.2222222222222222,
             "#7201a8"
            ],
            [
             0.3333333333333333,
             "#9c179e"
            ],
            [
             0.4444444444444444,
             "#bd3786"
            ],
            [
             0.5555555555555556,
             "#d8576b"
            ],
            [
             0.6666666666666666,
             "#ed7953"
            ],
            [
             0.7777777777777778,
             "#fb9f3a"
            ],
            [
             0.8888888888888888,
             "#fdca26"
            ],
            [
             1,
             "#f0f921"
            ]
           ]
          },
          "colorway": [
           "#636efa",
           "#EF553B",
           "#00cc96",
           "#ab63fa",
           "#FFA15A",
           "#19d3f3",
           "#FF6692",
           "#B6E880",
           "#FF97FF",
           "#FECB52"
          ],
          "font": {
           "color": "#2a3f5f"
          },
          "geo": {
           "bgcolor": "white",
           "lakecolor": "white",
           "landcolor": "#E5ECF6",
           "showlakes": true,
           "showland": true,
           "subunitcolor": "white"
          },
          "hoverlabel": {
           "align": "left"
          },
          "hovermode": "closest",
          "mapbox": {
           "style": "light"
          },
          "paper_bgcolor": "white",
          "plot_bgcolor": "#E5ECF6",
          "polar": {
           "angularaxis": {
            "gridcolor": "white",
            "linecolor": "white",
            "ticks": ""
           },
           "bgcolor": "#E5ECF6",
           "radialaxis": {
            "gridcolor": "white",
            "linecolor": "white",
            "ticks": ""
           }
          },
          "scene": {
           "xaxis": {
            "backgroundcolor": "#E5ECF6",
            "gridcolor": "white",
            "gridwidth": 2,
            "linecolor": "white",
            "showbackground": true,
            "ticks": "",
            "zerolinecolor": "white"
           },
           "yaxis": {
            "backgroundcolor": "#E5ECF6",
            "gridcolor": "white",
            "gridwidth": 2,
            "linecolor": "white",
            "showbackground": true,
            "ticks": "",
            "zerolinecolor": "white"
           },
           "zaxis": {
            "backgroundcolor": "#E5ECF6",
            "gridcolor": "white",
            "gridwidth": 2,
            "linecolor": "white",
            "showbackground": true,
            "ticks": "",
            "zerolinecolor": "white"
           }
          },
          "shapedefaults": {
           "line": {
            "color": "#2a3f5f"
           }
          },
          "ternary": {
           "aaxis": {
            "gridcolor": "white",
            "linecolor": "white",
            "ticks": ""
           },
           "baxis": {
            "gridcolor": "white",
            "linecolor": "white",
            "ticks": ""
           },
           "bgcolor": "#E5ECF6",
           "caxis": {
            "gridcolor": "white",
            "linecolor": "white",
            "ticks": ""
           }
          },
          "title": {
           "x": 0.05
          },
          "xaxis": {
           "automargin": true,
           "gridcolor": "white",
           "linecolor": "white",
           "ticks": "",
           "title": {
            "standoff": 15
           },
           "zerolinecolor": "white",
           "zerolinewidth": 2
          },
          "yaxis": {
           "automargin": true,
           "gridcolor": "white",
           "linecolor": "white",
           "ticks": "",
           "title": {
            "standoff": 15
           },
           "zerolinecolor": "white",
           "zerolinewidth": 2
          }
         }
        }
       }
      }
     },
     "metadata": {},
     "output_type": "display_data"
    }
   ],
   "source": [
    "import plotly.graph_objects as go\n",
    "import pandas as pd\n",
    "\n",
    "\n",
    "cancer_data = pd.read_csv(\"../data/cum_risk_breast_cancer_mortality.csv\")\n",
    "\n",
    "fig = go.Figure(data=go.Choropleth(\n",
    "    locations = cancer_data['ISO code'],\n",
    "    z = cancer_data['Value'],\n",
    "    text = cancer_data['Population'],\n",
    "    colorscale = 'Reds',\n",
    "    autocolorscale=False,\n",
    "    reversescale=False,\n",
    "    marker_line_color='darkgray',\n",
    "    marker_line_width=0.5,\n",
    "    #colorbar_tickprefix = '%',\n",
    "    #colorbar=None,\n",
    "    colorbar_title = 'Cum.risk',\n",
    "))\n",
    "\n",
    "fig.update_layout(\n",
    "    #title_text='Estimated cumulative risk of breast cancer mortality in 2020, females, ages 0-74',\n",
    "    geo=dict(\n",
    "        showframe=False,\n",
    "        showcoastlines=False,\n",
    "        projection_type='equirectangular'\n",
    "    ),\n",
    "    annotations = [dict(\n",
    "        x=0.015,\n",
    "        y=0.15,\n",
    "        xref='paper',\n",
    "        yref='paper',\n",
    "        text='Data source: GLOBOSCAN 2020 (IARC)',\n",
    "        showarrow = False\n",
    "    )],\n",
    "    margin=go.layout.Margin(\n",
    "        l=0, #left margin\n",
    "        r=0, #right margin\n",
    "        b=0, #bottom margin\n",
    "        t=0  #top margin  <- Need to be adjusted if title is added!\n",
    "    ),\n",
    "    #coloraxis_colorbar_x=0.26,\n",
    ")\n",
    "\n",
    "#fig.data[0].colorbar.x=-0.15\n",
    "fig.data[0].colorbar.thickness=15\n",
    "fig.data[0].colorbar.len=0.75\n",
    "\n",
    "fig.show()\n",
    "fig.write_image(\"test.svg\")\n"
   ]
  }
 ],
 "metadata": {
  "kernelspec": {
   "display_name": "venv",
   "language": "python",
   "name": "python3"
  },
  "language_info": {
   "codemirror_mode": {
    "name": "ipython",
    "version": 3
   },
   "file_extension": ".py",
   "mimetype": "text/x-python",
   "name": "python",
   "nbconvert_exporter": "python",
   "pygments_lexer": "ipython3",
   "version": "3.8.16"
  },
  "orig_nbformat": 4
 },
 "nbformat": 4,
 "nbformat_minor": 2
}
