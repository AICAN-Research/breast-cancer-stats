{
 "cells": [
  {
   "cell_type": "code",
   "execution_count": 2,
   "metadata": {},
   "outputs": [
    {
     "name": "stdout",
     "output_type": "stream",
     "text": [
      "\n",
      "\u001b[1m[\u001b[0m\u001b[34;49mnotice\u001b[0m\u001b[1;39;49m]\u001b[0m\u001b[39;49m A new release of pip is available: \u001b[0m\u001b[31;49m23.1.2\u001b[0m\u001b[39;49m -> \u001b[0m\u001b[32;49m23.2.1\u001b[0m\n",
      "\u001b[1m[\u001b[0m\u001b[34;49mnotice\u001b[0m\u001b[1;39;49m]\u001b[0m\u001b[39;49m To update, run: \u001b[0m\u001b[32;49mpip install --upgrade pip\u001b[0m\n"
     ]
    }
   ],
   "source": [
    "# Install dependencies\n",
    "!pip install -q -U pandas plotly"
   ]
  },
  {
   "cell_type": "code",
   "execution_count": 77,
   "metadata": {},
   "outputs": [
    {
     "name": "stdout",
     "output_type": "stream",
     "text": [
      "                 Cancer Incidence    Mortality (\\%) Prevalence\n",
      "0                   All   8751759  4403188 (0.5031)   23087599\n",
      "1                Breast   2261419   684996 (0.3029)    7790717\n",
      "2            Colorectum    865630   419536 (0.4847)    2402656\n",
      "3                  Lung    770828   607465 (0.7881)    1025591\n",
      "4           Cervixuteri    604127   341831 (0.5658)    1495211\n",
      "5               Thyroid    448915    27740 (0.0618)    1546208\n",
      "6           Corpusuteri    417367    97370 (0.2333)    1415213\n",
      "7               Stomach    369580   266005 (0.7197)     627185\n",
      "8                 Ovary    313959   207252 (0.6601)     823315\n",
      "9                 Liver    273357   252658 (0.9243)     300622\n",
      "10  Non-Hodgkinlymphoma    240201   112576 (0.4687)     692657\n",
      "11             Pancreas    232908    219163 (0.941)     175845\n",
      "12            Leukaemia    205016   133776 (0.6525)     577572\n",
      "13           Oesophagus    185750   169763 (0.9139)     204149\n",
      "14               Kidney    160039    63768 (0.3985)     461000\n"
     ]
    }
   ],
   "source": [
    "import plotly.graph_objects as go\n",
    "import pandas as pd\n",
    "import numpy as np\n",
    "\n",
    "\n",
    "# load cancer data\n",
    "incidence = pd.read_csv(\"../data/bc_incidence.csv\")\n",
    "mortality = pd.read_csv(\"../data/bc_mortality.csv\")\n",
    "prevalence = pd.read_csv(\"../data/bc_prevalence.csv\")\n",
    "\n",
    "# merge dataframes\n",
    "data = []\n",
    "for i in range(incidence.shape[0]):\n",
    "    incidence_row = incidence.iloc[i]\n",
    "    cancer_type = incidence_row[\"Cancer\"]\n",
    "\n",
    "    mortality_row = mortality.loc[mortality[\"Cancer\"] == cancer_type]\n",
    "    prevalence_row = prevalence.loc[prevalence[\"Cancer\"] == cancer_type]\n",
    "\n",
    "    cancer_type = \"All\" if cancer_type == \"Allcancersexcl.non-melanomaskincancer\" else cancer_type\n",
    "\n",
    "    data.append([cancer_type, incidence_row[\"Number\"], str(mortality_row[\"Number\"].iloc[0]) + \" (\" + str(np.round(mortality_row[\"Number\"].iloc[0] / incidence_row[\"Number\"], 4)) + \")\", prevalence_row[\"5-year\"].iloc[0]])\n",
    "\n",
    "data = pd.DataFrame(data=np.array(data), columns=[\"Cancer\", \"Incidence\", \"Mortality (\\%)\", \"Prevalence\"])\n",
    "data = data[:16]\n",
    "\n",
    "print(data)\n",
    "\n",
    "# convert to LaTeX\n",
    "data.to_latex(\"bc_stats_table.txt\", index=False, header=True)\n"
   ]
  }
 ],
 "metadata": {
  "kernelspec": {
   "display_name": "venv",
   "language": "python",
   "name": "python3"
  },
  "language_info": {
   "codemirror_mode": {
    "name": "ipython",
    "version": 3
   },
   "file_extension": ".py",
   "mimetype": "text/x-python",
   "name": "python",
   "nbconvert_exporter": "python",
   "pygments_lexer": "ipython3",
   "version": "3.8.16"
  },
  "orig_nbformat": 4
 },
 "nbformat": 4,
 "nbformat_minor": 2
}
