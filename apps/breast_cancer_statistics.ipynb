{
 "cells": [
  {
   "cell_type": "code",
   "execution_count": 9,
   "metadata": {},
   "outputs": [
    {
     "name": "stdout",
     "output_type": "stream",
     "text": [
      "\n",
      "\u001b[1m[\u001b[0m\u001b[34;49mnotice\u001b[0m\u001b[1;39;49m]\u001b[0m\u001b[39;49m A new release of pip is available: \u001b[0m\u001b[31;49m23.1.2\u001b[0m\u001b[39;49m -> \u001b[0m\u001b[32;49m23.2.1\u001b[0m\n",
      "\u001b[1m[\u001b[0m\u001b[34;49mnotice\u001b[0m\u001b[1;39;49m]\u001b[0m\u001b[39;49m To update, run: \u001b[0m\u001b[32;49mpip install --upgrade pip\u001b[0m\n"
     ]
    }
   ],
   "source": [
    "# Install dependencies\n",
    "!pip install -q -U pandas plotly"
   ]
  },
  {
   "cell_type": "code",
   "execution_count": null,
   "metadata": {},
   "outputs": [],
   "source": [
    "# Clone repo to get access to data/ directory\n",
    "!git clone https://github.com/andreped/breast-cancer-stats.git\n",
    "%cd breast-cancer-stats/apps/"
   ]
  },
  {
   "cell_type": "code",
   "execution_count": 10,
   "metadata": {},
   "outputs": [
    {
     "name": "stdout",
     "output_type": "stream",
     "text": [
      "                 Cancer    Incidence (\\%)    Mortality (\\%) Prevalence\n",
      "0                   All     8751759 (1.0)  4403188 (0.5031)   23087599\n",
      "1                Breast  2261419 (0.2584)   684996 (0.3029)    7790717\n",
      "2            Colorectum   865630 (0.0989)   419536 (0.4847)    2402656\n",
      "3                  Lung   770828 (0.0881)   607465 (0.7881)    1025591\n",
      "4           Cervixuteri    604127 (0.069)   341831 (0.5658)    1495211\n",
      "5               Thyroid   448915 (0.0513)    27740 (0.0618)    1546208\n",
      "6           Corpusuteri   417367 (0.0477)    97370 (0.2333)    1415213\n",
      "7               Stomach   369580 (0.0422)   266005 (0.7197)     627185\n",
      "8                 Ovary   313959 (0.0359)   207252 (0.6601)     823315\n",
      "9                 Liver   273357 (0.0312)   252658 (0.9243)     300622\n",
      "10  Non-Hodgkinlymphoma   240201 (0.0274)   112576 (0.4687)     692657\n"
     ]
    }
   ],
   "source": [
    "import plotly.graph_objects as go\n",
    "import pandas as pd\n",
    "import numpy as np\n",
    "import os\n",
    "\n",
    "\n",
    "# load cancer data\n",
    "incidence = pd.read_csv(\"../data/bc_incidence.csv\")\n",
    "mortality = pd.read_csv(\"../data/bc_mortality.csv\")\n",
    "prevalence = pd.read_csv(\"../data/bc_prevalence.csv\")\n",
    "\n",
    "# merge dataframes\n",
    "data = []\n",
    "for i in range(incidence.shape[0]):\n",
    "    incidence_row = incidence.iloc[i]\n",
    "    cancer_type = incidence_row[\"Cancer\"]\n",
    "\n",
    "    mortality_row = mortality.loc[mortality[\"Cancer\"] == cancer_type]\n",
    "    prevalence_row = prevalence.loc[prevalence[\"Cancer\"] == cancer_type]\n",
    "\n",
    "    cancer_type = \"All\" if cancer_type == \"Allcancersexcl.non-melanomaskincancer\" else cancer_type\n",
    "\n",
    "    data.append([\n",
    "        cancer_type,\n",
    "        str(incidence_row[\"Number\"]) + \" (\" + str(np.round(incidence_row[\"Number\"] / incidence[\"Number\"].iloc[0], 4)) + \")\",\n",
    "        str(mortality_row[\"Number\"].iloc[0]) + \" (\" + str(np.round(mortality_row[\"Number\"].iloc[0] / incidence_row[\"Number\"], 4)) + \")\",\n",
    "        prevalence_row[\"5-year\"].iloc[0]\n",
    "    ])\n",
    "\n",
    "data = pd.DataFrame(data=np.array(data), columns=[\"Cancer\", \"Incidence (\\%)\", \"Mortality (\\%)\", \"Prevalence\"])\n",
    "data = data[:11]  # only save top 10\n",
    "\n",
    "print(data)\n",
    "\n",
    "os.makedirs(\"results/\", exist_ok=True)\n",
    "\n",
    "# convert to LaTeX\n",
    "data.to_latex(\"results/bc_stats_table.txt\", index=False, header=True)\n"
   ]
  }
 ],
 "metadata": {
  "kernelspec": {
   "display_name": "venv",
   "language": "python",
   "name": "python3"
  },
  "language_info": {
   "codemirror_mode": {
    "name": "ipython",
    "version": 3
   },
   "file_extension": ".py",
   "mimetype": "text/x-python",
   "name": "python",
   "nbconvert_exporter": "python",
   "pygments_lexer": "ipython3",
   "version": "3.8.16"
  },
  "orig_nbformat": 4
 },
 "nbformat": 4,
 "nbformat_minor": 2
}
